{
 "cells": [
  {
   "cell_type": "code",
   "execution_count": 1,
   "metadata": {},
   "outputs": [
    {
     "name": "stderr",
     "output_type": "stream",
     "text": [
      "Using TensorFlow backend.\n",
      "/Users/hetty/anaconda/lib/python3.6/importlib/_bootstrap.py:219: RuntimeWarning: compiletime version 3.5 of module 'tensorflow.python.framework.fast_tensor_util' does not match runtime version 3.6\n",
      "  return f(*args, **kwds)\n"
     ]
    }
   ],
   "source": [
    "import keras"
   ]
  },
  {
   "cell_type": "code",
   "execution_count": 3,
   "metadata": {
    "collapsed": true
   },
   "outputs": [],
   "source": [
    "from keras.models import Sequential\n",
    "from keras.layers import LSTM\n",
    "from keras.layers.core import Dense, Dropout, Activation\n",
    "from datetime import date, timedelta\n",
    "import pandas as pd\n",
    "import numpy as np"
   ]
  },
  {
   "cell_type": "code",
   "execution_count": 5,
   "metadata": {
    "collapsed": true
   },
   "outputs": [],
   "source": [
    "# construct model\n",
    "model = Sequential()\n",
    "model.add(LSTM(30, input_shape=(X_train.shape[1],X_train.shape[2]), return_sequences=False))\n",
    "model.add(Dense(30))\n",
    "model.add(Dropout(.2))\n",
    "model.add(Dense(1))\n",
    "model.compile(loss='mse',optimizer='adam',metrics=['mse'])"
   ]
  },
  {
   "cell_type": "code",
   "execution_count": 4,
   "metadata": {},
   "outputs": [
    {
     "name": "stdout",
     "output_type": "stream",
     "text": [
      "Loading Data\n"
     ]
    }
   ],
   "source": [
    "print('Loading Data')\n",
    "df_train = pd.read_csv('train.csv',dtype={'onpromotion': bool},\n",
    "    converters={'unit_sales': lambda u: np.log1p(float(u)) if float(u) > 0 else 0},\n",
    "    parse_dates=[\"date\"], skiprows=range(1, 101688780) )\n",
    "# read data starting from 2017-1-1"
   ]
  },
  {
   "cell_type": "code",
   "execution_count": 5,
   "metadata": {
    "collapsed": true
   },
   "outputs": [],
   "source": [
    "df_2017 = df_train.set_index([\"store_nbr\", \"item_nbr\", \"date\"])[[\"unit_sales\"]].unstack().fillna(0)\n",
    "df_2017.columns = df_2017.columns.get_level_values(1)"
   ]
  },
  {
   "cell_type": "code",
   "execution_count": 6,
   "metadata": {
    "collapsed": true
   },
   "outputs": [],
   "source": [
    "items = pd.read_csv(\"items.csv\")\n",
    "stores = pd.read_csv('stores.csv')"
   ]
  },
  {
   "cell_type": "code",
   "execution_count": 29,
   "metadata": {
    "collapsed": true
   },
   "outputs": [],
   "source": [
    "df_2017_reset = df_2017.reset_index()\n",
    "temp_a = pd.merge(df_2017_reset, items, on='item_nbr')\n",
    "temp_b = pd.merge(temp_a, stores, on='store_nbr')\n",
    "train_2017 = temp_b.set_index([\"store_nbr\", \"item_nbr\"])"
   ]
  },
  {
   "cell_type": "code",
   "execution_count": 59,
   "metadata": {
    "collapsed": true
   },
   "outputs": [],
   "source": [
    "promo_2017_train = df_train.set_index([\"store_nbr\", \"item_nbr\", \"date\"])[[\"onpromotion\"]].unstack().fillna(False)\n",
    "promo_2017_train.columns = promo_2017_train.columns.get_level_values(1)"
   ]
  },
  {
   "cell_type": "code",
   "execution_count": 60,
   "metadata": {
    "collapsed": true
   },
   "outputs": [],
   "source": [
    "promo_2017_train = promo_2017_train.reindex(train_2017.index)"
   ]
  },
  {
   "cell_type": "code",
   "execution_count": 61,
   "metadata": {
    "collapsed": true
   },
   "outputs": [],
   "source": [
    "df_test = pd.read_csv(\"test.csv\", dtype={'onpromotion': bool}, parse_dates=[\"date\"]).set_index(['store_nbr', 'item_nbr', 'date'])"
   ]
  },
  {
   "cell_type": "code",
   "execution_count": 62,
   "metadata": {
    "collapsed": true
   },
   "outputs": [],
   "source": [
    "promo_2017_test = df_test[[\"onpromotion\"]].unstack().fillna(False)\n",
    "promo_2017_test.columns = promo_2017_test.columns.get_level_values(1)"
   ]
  },
  {
   "cell_type": "code",
   "execution_count": 63,
   "metadata": {
    "collapsed": true
   },
   "outputs": [],
   "source": [
    "promo_2017_test = promo_2017_test.reindex(promo_2017_train.index).fillna(False)"
   ]
  },
  {
   "cell_type": "code",
   "execution_count": 64,
   "metadata": {
    "collapsed": true
   },
   "outputs": [],
   "source": [
    "promo_2017 = pd.concat([promo_2017_train, promo_2017_test], axis=1)\n",
    "del promo_2017_test, promo_2017_train"
   ]
  },
  {
   "cell_type": "code",
   "execution_count": 66,
   "metadata": {
    "collapsed": true
   },
   "outputs": [],
   "source": [
    "promo_2017 = promo_2017.iloc[:,151:]"
   ]
  },
  {
   "cell_type": "code",
   "execution_count": 68,
   "metadata": {
    "collapsed": true
   },
   "outputs": [],
   "source": [
    "items = pd.read_csv(\"items.csv\").set_index(\"item_nbr\")\n",
    "items = items.reindex(train_2017.index.get_level_values(1))"
   ]
  },
  {
   "cell_type": "code",
   "execution_count": 78,
   "metadata": {
    "collapsed": true
   },
   "outputs": [],
   "source": [
    "train_start_date = date(2017,7,5)\n",
    "last_day = train_2017[pd.date_range(train_start_date - timedelta(days=1), periods=22, freq='D')]"
   ]
  },
  {
   "cell_type": "code",
   "execution_count": 86,
   "metadata": {
    "collapsed": true
   },
   "outputs": [],
   "source": [
    "last_day = np.reshape(np.array(last_day), (last_day.shape[0],last_day.shape[1],1))"
   ]
  },
  {
   "cell_type": "code",
   "execution_count": 131,
   "metadata": {
    "collapsed": true
   },
   "outputs": [],
   "source": [
    "last_3_day = train_2017[pd.date_range(train_start_date - timedelta(days=3), periods=24, freq='D')]\n",
    "last_3_day = last_3_day.rolling(3,axis=1).mean()\n",
    "last_3_day = np.reshape(np.array(last_3_day.iloc[:,2:]), \n",
    "                        (last_3_day.shape[0],last_3_day.shape[1]-2,1))"
   ]
  },
  {
   "cell_type": "code",
   "execution_count": 133,
   "metadata": {},
   "outputs": [
    {
     "data": {
      "text/plain": [
       "(167515, 22, 1)"
      ]
     },
     "execution_count": 133,
     "metadata": {},
     "output_type": "execute_result"
    }
   ],
   "source": [
    "last_7_day = train_2017[pd.date_range(train_start_date - timedelta(days=7), periods=28, freq='D')]\n",
    "last_7_day = last_7_day.rolling(7,axis=1).mean()\n",
    "last_7_day = np.reshape(np.array(last_7_day.iloc[:,6:]),\n",
    "                        (last_7_day.shape[0], last_7_day.shape[1]-6, 1))\n",
    "last_7_day.shape"
   ]
  },
  {
   "cell_type": "code",
   "execution_count": 135,
   "metadata": {},
   "outputs": [
    {
     "data": {
      "text/plain": [
       "(167515, 22, 1)"
      ]
     },
     "execution_count": 135,
     "metadata": {},
     "output_type": "execute_result"
    }
   ],
   "source": [
    "last_14_day = train_2017[pd.date_range(train_start_date - timedelta(days=14), periods=35, freq='D')]\n",
    "last_14_day = last_14_day.rolling(14,axis=1).mean()\n",
    "last_14_day = np.reshape(np.array(last_14_day.iloc[:,13:]),\n",
    "                         (last_14_day.shape[0],last_14_day.shape[1]-13,1))\n",
    "last_14_day.shape"
   ]
  },
  {
   "cell_type": "code",
   "execution_count": 138,
   "metadata": {},
   "outputs": [
    {
     "data": {
      "text/plain": [
       "(167515, 22, 1)"
      ]
     },
     "execution_count": 138,
     "metadata": {},
     "output_type": "execute_result"
    }
   ],
   "source": [
    "last_30_day = train_2017[pd.date_range(train_start_date - timedelta(days=30), periods=51, freq='D')]\n",
    "last_30_day = last_30_day.rolling(30,axis=1).mean()\n",
    "last_30_day = np.reshape(np.array(last_30_day.iloc[:,29:]),\n",
    "                         (last_30_day.shape[0],last_30_day.shape[1]-29,1))\n",
    "last_30_day.shape"
   ]
  },
  {
   "cell_type": "code",
   "execution_count": 139,
   "metadata": {
    "collapsed": true
   },
   "outputs": [],
   "source": [
    "dtrain = np.concatenate((last_day,last_3_day,last_7_day,last_14_day,last_30_day),axis=2)"
   ]
  },
  {
   "cell_type": "code",
   "execution_count": 141,
   "metadata": {
    "collapsed": true
   },
   "outputs": [],
   "source": [
    "promo_2017 = promo_2017.astype(np.uint8)"
   ]
  },
  {
   "cell_type": "code",
   "execution_count": 144,
   "metadata": {
    "collapsed": true
   },
   "outputs": [],
   "source": [
    "promo_today = promo_2017[pd.date_range(train_start_date, periods=22, freq='D')]\n",
    "promo_today = np.reshape(np.array(promo_today), (promo_today.shape[0],promo_today.shape[1],1))"
   ]
  },
  {
   "cell_type": "code",
   "execution_count": 146,
   "metadata": {
    "scrolled": false
   },
   "outputs": [
    {
     "data": {
      "text/plain": [
       "(167515, 22, 1)"
      ]
     },
     "execution_count": 146,
     "metadata": {},
     "output_type": "execute_result"
    }
   ],
   "source": [
    "promo_today.shape"
   ]
  },
  {
   "cell_type": "code",
   "execution_count": 153,
   "metadata": {
    "collapsed": true
   },
   "outputs": [],
   "source": [
    "num = [3,7,14,30]\n",
    "\n",
    "for i in num:\n",
    "    promo_tem = promo_2017[pd.date_range(train_start_date - timedelta(days=i),periods=21+i, freq='D')]\n",
    "    promo_tem = promo_tem.rolling(i,axis=1).sum()\n",
    "    promo_tem = np.reshape(np.array(promo_tem.iloc[:,i-1:]),\n",
    "                           (promo_tem.shape[0],promo_tem.shape[1]-i+1,1))\n",
    "    promo_today = np.concatenate((promo_today,promo_tem),axis=2)"
   ]
  },
  {
   "cell_type": "code",
   "execution_count": 159,
   "metadata": {
    "collapsed": true
   },
   "outputs": [],
   "source": [
    "X_train = np.concatenate((dtrain,promo_today),axis=2)"
   ]
  },
  {
   "cell_type": "code",
   "execution_count": 161,
   "metadata": {},
   "outputs": [
    {
     "data": {
      "text/plain": [
       "(167515, 16)"
      ]
     },
     "execution_count": 161,
     "metadata": {},
     "output_type": "execute_result"
    }
   ],
   "source": [
    "Y_train = train_2017[pd.date_range(date(2017,7,26), periods=16)].values\n",
    "Y_train.shape"
   ]
  },
  {
   "cell_type": "code",
   "execution_count": 162,
   "metadata": {
    "collapsed": true
   },
   "outputs": [],
   "source": [
    "# construct model\n",
    "model = Sequential()\n",
    "model.add(LSTM(22, input_shape=(X_train.shape[1],X_train.shape[2]), return_sequences=False))\n",
    "model.add(Dense(22))\n",
    "model.add(Dropout(.2))\n",
    "model.add(Dense(1))\n",
    "model.compile(loss='mse',optimizer='adam',metrics=['mse'])"
   ]
  },
  {
   "cell_type": "code",
   "execution_count": 163,
   "metadata": {
    "collapsed": true
   },
   "outputs": [],
   "source": [
    "import random"
   ]
  },
  {
   "cell_type": "code",
   "execution_count": 168,
   "metadata": {
    "collapsed": true
   },
   "outputs": [],
   "source": [
    "random.seed(100)\n",
    "random.shuffle(X_train)"
   ]
  },
  {
   "cell_type": "code",
   "execution_count": 169,
   "metadata": {
    "collapsed": true
   },
   "outputs": [],
   "source": [
    "random.seed(100)\n",
    "random.shuffle(Y_train)"
   ]
  },
  {
   "cell_type": "code",
   "execution_count": 214,
   "metadata": {
    "collapsed": true
   },
   "outputs": [],
   "source": [
    "x_train = X_train[:140000,:,:]\n",
    "y_train = Y_train[:140000,:]"
   ]
  },
  {
   "cell_type": "code",
   "execution_count": 215,
   "metadata": {
    "collapsed": true
   },
   "outputs": [],
   "source": [
    "x_val = X_train[140000:,:,:]\n",
    "y_val = Y_train[140000:,:]"
   ]
  },
  {
   "cell_type": "code",
   "execution_count": 179,
   "metadata": {
    "collapsed": true
   },
   "outputs": [],
   "source": [
    "sample_weights = np.array(items['perishable']*0.25+1)"
   ]
  },
  {
   "cell_type": "code",
   "execution_count": 189,
   "metadata": {
    "collapsed": true
   },
   "outputs": [],
   "source": [
    "random.seed(100)\n",
    "random.shuffle(sample_weights)\n",
    "sample_weights_train = sample_weights[:140000]"
   ]
  },
  {
   "cell_type": "code",
   "execution_count": 192,
   "metadata": {
    "collapsed": true
   },
   "outputs": [],
   "source": [
    "test_date = date(2017,7,26)\n",
    "last_day = train_2017[pd.date_range(test_date - timedelta(days=1), periods=22, freq='D')]\n",
    "last_day = np.reshape(np.array(last_day), (last_day.shape[0],last_day.shape[1],1))\n",
    "\n",
    "num = [3,7,14,30]\n",
    "\n",
    "for i in num:\n",
    "    sales_tem = train_2017[pd.date_range(test_date - timedelta(days=i),periods=21+i, freq='D')]\n",
    "    sales_tem = sales_tem.rolling(i,axis=1).mean()\n",
    "    sales_tem = np.reshape(np.array(sales_tem.iloc[:,i-1:]),\n",
    "                             (sales_tem.shape[0],sales_tem.shape[1]-i+1,1))\n",
    "    last_day = np.concatenate((last_day,sales_tem),axis=2)"
   ]
  },
  {
   "cell_type": "code",
   "execution_count": 194,
   "metadata": {
    "collapsed": true
   },
   "outputs": [],
   "source": [
    "promo_today = promo_2017[pd.date_range(test_date, periods=22, freq='D')]\n",
    "promo_today = np.reshape(np.array(promo_today), (promo_today.shape[0],promo_today.shape[1],1))\n",
    "\n",
    "for i in num:\n",
    "    promo_tem = promo_2017[pd.date_range(test_date - timedelta(days=i),periods=21+i, freq='D')]\n",
    "    promo_tem = promo_tem.rolling(i,axis=1).sum()\n",
    "    promo_tem = np.reshape(np.array(promo_tem.iloc[:,i-1:]),\n",
    "                           (promo_tem.shape[0],promo_tem.shape[1]-i+1,1))\n",
    "    promo_today = np.concatenate((promo_today,promo_tem),axis=2)"
   ]
  },
  {
   "cell_type": "code",
   "execution_count": 196,
   "metadata": {
    "collapsed": true
   },
   "outputs": [],
   "source": [
    "X_test = np.concatenate((last_day,promo_today),axis=2)"
   ]
  },
  {
   "cell_type": "code",
   "execution_count": 246,
   "metadata": {
    "collapsed": true
   },
   "outputs": [],
   "source": [
    "val_pred = []\n",
    "test_pred = []"
   ]
  },
  {
   "cell_type": "code",
   "execution_count": 247,
   "metadata": {},
   "outputs": [
    {
     "name": "stdout",
     "output_type": "stream",
     "text": [
      "Train on 140000 samples, validate on 27515 samples\n",
      "Epoch 1/8\n",
      "140000/140000 [==============================] - 72s 516us/step - loss: 0.3557 - mean_squared_error: 0.3367 - val_loss: 0.3464 - val_mean_squared_error: 0.3285\n",
      "Epoch 2/8\n",
      "140000/140000 [==============================] - 70s 500us/step - loss: 0.3469 - mean_squared_error: 0.3284 - val_loss: 0.3444 - val_mean_squared_error: 0.3266\n",
      "Epoch 3/8\n",
      "140000/140000 [==============================] - 63s 453us/step - loss: 0.3440 - mean_squared_error: 0.3257 - val_loss: 0.3414 - val_mean_squared_error: 0.3237\n",
      "Epoch 4/8\n",
      "140000/140000 [==============================] - 59s 419us/step - loss: 0.3417 - mean_squared_error: 0.3236 - val_loss: 0.3402 - val_mean_squared_error: 0.3226\n",
      "Epoch 5/8\n",
      "140000/140000 [==============================] - 58s 413us/step - loss: 0.3405 - mean_squared_error: 0.3225 - val_loss: 0.3400 - val_mean_squared_error: 0.3224\n",
      "Epoch 6/8\n",
      "140000/140000 [==============================] - 58s 415us/step - loss: 0.3393 - mean_squared_error: 0.3213 - val_loss: 0.3412 - val_mean_squared_error: 0.3235\n",
      "Epoch 7/8\n",
      "140000/140000 [==============================] - 58s 414us/step - loss: 0.3380 - mean_squared_error: 0.3201 - val_loss: 0.3408 - val_mean_squared_error: 0.3232\n",
      "Epoch 8/8\n",
      "140000/140000 [==============================] - 57s 410us/step - loss: 0.3367 - mean_squared_error: 0.3190 - val_loss: 0.3401 - val_mean_squared_error: 0.3225\n",
      "Train on 140000 samples, validate on 27515 samples\n",
      "Epoch 1/8\n",
      "140000/140000 [==============================] - 58s 414us/step - loss: 0.3605 - mean_squared_error: 0.3415 - val_loss: 0.3718 - val_mean_squared_error: 0.3522\n",
      "Epoch 2/8\n",
      "140000/140000 [==============================] - 59s 423us/step - loss: 0.3576 - mean_squared_error: 0.3387 - val_loss: 0.3707 - val_mean_squared_error: 0.3510\n",
      "Epoch 3/8\n",
      "140000/140000 [==============================] - 59s 419us/step - loss: 0.3551 - mean_squared_error: 0.3365 - val_loss: 0.3695 - val_mean_squared_error: 0.3499\n",
      "Epoch 4/8\n",
      "140000/140000 [==============================] - 57s 406us/step - loss: 0.3539 - mean_squared_error: 0.3352 - val_loss: 0.3692 - val_mean_squared_error: 0.3496\n",
      "Epoch 5/8\n",
      "140000/140000 [==============================] - 56s 403us/step - loss: 0.3523 - mean_squared_error: 0.3338 - val_loss: 0.3688 - val_mean_squared_error: 0.3492\n",
      "Epoch 6/8\n",
      "140000/140000 [==============================] - 59s 419us/step - loss: 0.3512 - mean_squared_error: 0.3328 - val_loss: 0.3687 - val_mean_squared_error: 0.3491\n",
      "Epoch 7/8\n",
      "140000/140000 [==============================] - 58s 415us/step - loss: 0.3507 - mean_squared_error: 0.3323 - val_loss: 0.3691 - val_mean_squared_error: 0.3494\n",
      "Epoch 8/8\n",
      "140000/140000 [==============================] - 59s 421us/step - loss: 0.3501 - mean_squared_error: 0.3317 - val_loss: 0.3694 - val_mean_squared_error: 0.3497\n",
      "Train on 140000 samples, validate on 27515 samples\n",
      "Epoch 1/8\n",
      "140000/140000 [==============================] - 57s 406us/step - loss: 0.3827 - mean_squared_error: 0.3623 - val_loss: 0.3953 - val_mean_squared_error: 0.3754\n",
      "Epoch 2/8\n",
      "140000/140000 [==============================] - 60s 429us/step - loss: 0.3785 - mean_squared_error: 0.3584 - val_loss: 0.3946 - val_mean_squared_error: 0.3748\n",
      "Epoch 3/8\n",
      "140000/140000 [==============================] - 59s 423us/step - loss: 0.3757 - mean_squared_error: 0.3558 - val_loss: 0.3942 - val_mean_squared_error: 0.3744\n",
      "Epoch 4/8\n",
      "140000/140000 [==============================] - 59s 420us/step - loss: 0.3735 - mean_squared_error: 0.3538 - val_loss: 0.3934 - val_mean_squared_error: 0.3736\n",
      "Epoch 5/8\n",
      "140000/140000 [==============================] - 58s 417us/step - loss: 0.3722 - mean_squared_error: 0.3526 - val_loss: 0.3933 - val_mean_squared_error: 0.3736\n",
      "Epoch 6/8\n",
      "140000/140000 [==============================] - 59s 420us/step - loss: 0.3718 - mean_squared_error: 0.3522 - val_loss: 0.3921 - val_mean_squared_error: 0.3724\n",
      "Epoch 7/8\n",
      "140000/140000 [==============================] - 58s 412us/step - loss: 0.3706 - mean_squared_error: 0.3511 - val_loss: 0.3938 - val_mean_squared_error: 0.3739\n",
      "Epoch 8/8\n",
      "140000/140000 [==============================] - 58s 413us/step - loss: 0.3694 - mean_squared_error: 0.3500 - val_loss: 0.3923 - val_mean_squared_error: 0.3726\n",
      "Train on 140000 samples, validate on 27515 samples\n",
      "Epoch 1/8\n",
      "140000/140000 [==============================] - 58s 411us/step - loss: 0.3886 - mean_squared_error: 0.3681 - val_loss: 0.4029 - val_mean_squared_error: 0.3823\n",
      "Epoch 2/8\n",
      "140000/140000 [==============================] - 59s 420us/step - loss: 0.3841 - mean_squared_error: 0.3638 - val_loss: 0.4000 - val_mean_squared_error: 0.3794\n",
      "Epoch 3/8\n",
      "140000/140000 [==============================] - 59s 423us/step - loss: 0.3814 - mean_squared_error: 0.3614 - val_loss: 0.3991 - val_mean_squared_error: 0.3786\n",
      "Epoch 4/8\n",
      "140000/140000 [==============================] - 58s 413us/step - loss: 0.3795 - mean_squared_error: 0.3596 - val_loss: 0.3989 - val_mean_squared_error: 0.3784\n",
      "Epoch 5/8\n",
      "140000/140000 [==============================] - 59s 420us/step - loss: 0.3789 - mean_squared_error: 0.3589 - val_loss: 0.3999 - val_mean_squared_error: 0.3794\n",
      "Epoch 6/8\n",
      "140000/140000 [==============================] - 58s 417us/step - loss: 0.3773 - mean_squared_error: 0.3575 - val_loss: 0.3985 - val_mean_squared_error: 0.3780\n",
      "Epoch 7/8\n",
      "140000/140000 [==============================] - 58s 417us/step - loss: 0.3758 - mean_squared_error: 0.3561 - val_loss: 0.4013 - val_mean_squared_error: 0.3807\n",
      "Epoch 8/8\n",
      "140000/140000 [==============================] - 58s 413us/step - loss: 0.3755 - mean_squared_error: 0.3557 - val_loss: 0.3980 - val_mean_squared_error: 0.3776\n",
      "Train on 140000 samples, validate on 27515 samples\n",
      "Epoch 1/8\n",
      "140000/140000 [==============================] - 59s 422us/step - loss: 0.3954 - mean_squared_error: 0.3743 - val_loss: 0.4114 - val_mean_squared_error: 0.3900\n",
      "Epoch 2/8\n",
      "140000/140000 [==============================] - 56s 402us/step - loss: 0.3909 - mean_squared_error: 0.3701 - val_loss: 0.4084 - val_mean_squared_error: 0.3872\n",
      "Epoch 3/8\n",
      "140000/140000 [==============================] - 56s 398us/step - loss: 0.3878 - mean_squared_error: 0.3672 - val_loss: 0.4078 - val_mean_squared_error: 0.3867\n",
      "Epoch 4/8\n",
      "140000/140000 [==============================] - 57s 406us/step - loss: 0.3869 - mean_squared_error: 0.3663 - val_loss: 0.4067 - val_mean_squared_error: 0.3857\n",
      "Epoch 5/8\n",
      "140000/140000 [==============================] - 57s 404us/step - loss: 0.3843 - mean_squared_error: 0.3639 - val_loss: 0.4068 - val_mean_squared_error: 0.3857\n",
      "Epoch 6/8\n",
      "140000/140000 [==============================] - 56s 401us/step - loss: 0.3843 - mean_squared_error: 0.3638 - val_loss: 0.4066 - val_mean_squared_error: 0.3855\n",
      "Epoch 7/8\n",
      "140000/140000 [==============================] - 54s 388us/step - loss: 0.3820 - mean_squared_error: 0.3617 - val_loss: 0.4077 - val_mean_squared_error: 0.3865\n",
      "Epoch 8/8\n",
      "140000/140000 [==============================] - 54s 386us/step - loss: 0.3812 - mean_squared_error: 0.3609 - val_loss: 0.4076 - val_mean_squared_error: 0.3864\n",
      "Train on 140000 samples, validate on 27515 samples\n",
      "Epoch 1/8\n",
      "140000/140000 [==============================] - 58s 414us/step - loss: 0.3877 - mean_squared_error: 0.3671 - val_loss: 0.4077 - val_mean_squared_error: 0.3866\n",
      "Epoch 2/8\n",
      "140000/140000 [==============================] - 56s 397us/step - loss: 0.3840 - mean_squared_error: 0.3635 - val_loss: 0.4071 - val_mean_squared_error: 0.3860\n",
      "Epoch 3/8\n",
      "140000/140000 [==============================] - 58s 412us/step - loss: 0.3811 - mean_squared_error: 0.3609 - val_loss: 0.4108 - val_mean_squared_error: 0.3895\n",
      "Epoch 4/8\n",
      "140000/140000 [==============================] - 60s 425us/step - loss: 0.3809 - mean_squared_error: 0.3607 - val_loss: 0.4082 - val_mean_squared_error: 0.3870\n",
      "Epoch 5/8\n",
      "140000/140000 [==============================] - 58s 415us/step - loss: 0.3789 - mean_squared_error: 0.3587 - val_loss: 0.4090 - val_mean_squared_error: 0.3876\n",
      "Epoch 6/8\n",
      "140000/140000 [==============================] - 59s 422us/step - loss: 0.3787 - mean_squared_error: 0.3586 - val_loss: 0.4087 - val_mean_squared_error: 0.3874\n",
      "Epoch 7/8\n",
      "140000/140000 [==============================] - 55s 390us/step - loss: 0.3769 - mean_squared_error: 0.3568 - val_loss: 0.4100 - val_mean_squared_error: 0.3886\n",
      "Epoch 8/8\n",
      "140000/140000 [==============================] - 55s 392us/step - loss: 0.3771 - mean_squared_error: 0.3570 - val_loss: 0.4097 - val_mean_squared_error: 0.3883\n",
      "Train on 140000 samples, validate on 27515 samples\n",
      "Epoch 1/8\n",
      "140000/140000 [==============================] - 56s 398us/step - loss: 0.4060 - mean_squared_error: 0.3842 - val_loss: 0.4191 - val_mean_squared_error: 0.3966\n",
      "Epoch 2/8\n",
      "140000/140000 [==============================] - 54s 388us/step - loss: 0.4036 - mean_squared_error: 0.3820 - val_loss: 0.4191 - val_mean_squared_error: 0.3967\n",
      "Epoch 3/8\n",
      "140000/140000 [==============================] - 56s 400us/step - loss: 0.4016 - mean_squared_error: 0.3800 - val_loss: 0.4193 - val_mean_squared_error: 0.3968\n",
      "Epoch 4/8\n",
      "140000/140000 [==============================] - 56s 399us/step - loss: 0.4004 - mean_squared_error: 0.3789 - val_loss: 0.4168 - val_mean_squared_error: 0.3945\n",
      "Epoch 5/8\n",
      "140000/140000 [==============================] - 54s 387us/step - loss: 0.3989 - mean_squared_error: 0.3775 - val_loss: 0.4164 - val_mean_squared_error: 0.3941\n",
      "Epoch 6/8\n",
      "140000/140000 [==============================] - 55s 393us/step - loss: 0.3973 - mean_squared_error: 0.3760 - val_loss: 0.4193 - val_mean_squared_error: 0.3967\n",
      "Epoch 7/8\n",
      "140000/140000 [==============================] - 55s 394us/step - loss: 0.3959 - mean_squared_error: 0.3747 - val_loss: 0.4174 - val_mean_squared_error: 0.3950\n",
      "Epoch 8/8\n",
      "140000/140000 [==============================] - 55s 391us/step - loss: 0.3953 - mean_squared_error: 0.3741 - val_loss: 0.4149 - val_mean_squared_error: 0.3927\n",
      "Train on 140000 samples, validate on 27515 samples\n",
      "Epoch 1/8\n",
      "140000/140000 [==============================] - 55s 394us/step - loss: 0.4104 - mean_squared_error: 0.3883 - val_loss: 0.4242 - val_mean_squared_error: 0.4017\n",
      "Epoch 2/8\n",
      "140000/140000 [==============================] - 56s 403us/step - loss: 0.4067 - mean_squared_error: 0.3849 - val_loss: 0.4231 - val_mean_squared_error: 0.4006\n",
      "Epoch 3/8\n",
      "140000/140000 [==============================] - 54s 388us/step - loss: 0.4046 - mean_squared_error: 0.3829 - val_loss: 0.4221 - val_mean_squared_error: 0.3997\n",
      "Epoch 4/8\n",
      "140000/140000 [==============================] - 56s 399us/step - loss: 0.4030 - mean_squared_error: 0.3815 - val_loss: 0.4225 - val_mean_squared_error: 0.4000\n",
      "Epoch 5/8\n",
      "140000/140000 [==============================] - 55s 392us/step - loss: 0.4018 - mean_squared_error: 0.3803 - val_loss: 0.4213 - val_mean_squared_error: 0.3989\n",
      "Epoch 6/8\n",
      "140000/140000 [==============================] - 55s 393us/step - loss: 0.4009 - mean_squared_error: 0.3795 - val_loss: 0.4222 - val_mean_squared_error: 0.3997\n",
      "Epoch 7/8\n",
      "140000/140000 [==============================] - 55s 391us/step - loss: 0.4001 - mean_squared_error: 0.3786 - val_loss: 0.4225 - val_mean_squared_error: 0.4000\n",
      "Epoch 8/8\n",
      "140000/140000 [==============================] - 55s 390us/step - loss: 0.3994 - mean_squared_error: 0.3781 - val_loss: 0.4215 - val_mean_squared_error: 0.3991\n",
      "Train on 140000 samples, validate on 27515 samples\n",
      "Epoch 1/8\n",
      "140000/140000 [==============================] - 56s 398us/step - loss: 0.3972 - mean_squared_error: 0.3763 - val_loss: 0.4121 - val_mean_squared_error: 0.3909\n",
      "Epoch 2/8\n",
      "140000/140000 [==============================] - 56s 402us/step - loss: 0.3924 - mean_squared_error: 0.3718 - val_loss: 0.4118 - val_mean_squared_error: 0.3906\n",
      "Epoch 3/8\n",
      "140000/140000 [==============================] - 56s 401us/step - loss: 0.3922 - mean_squared_error: 0.3716 - val_loss: 0.4119 - val_mean_squared_error: 0.3907\n",
      "Epoch 4/8\n",
      "140000/140000 [==============================] - 56s 397us/step - loss: 0.3908 - mean_squared_error: 0.3703 - val_loss: 0.4108 - val_mean_squared_error: 0.3896\n",
      "Epoch 5/8\n",
      "140000/140000 [==============================] - 56s 397us/step - loss: 0.3886 - mean_squared_error: 0.3683 - val_loss: 0.4108 - val_mean_squared_error: 0.3895\n",
      "Epoch 6/8\n",
      "140000/140000 [==============================] - 56s 400us/step - loss: 0.3883 - mean_squared_error: 0.3679 - val_loss: 0.4094 - val_mean_squared_error: 0.3883\n",
      "Epoch 7/8\n",
      "140000/140000 [==============================] - 53s 380us/step - loss: 0.3875 - mean_squared_error: 0.3672 - val_loss: 0.4107 - val_mean_squared_error: 0.3895\n",
      "Epoch 8/8\n",
      "140000/140000 [==============================] - 56s 397us/step - loss: 0.3866 - mean_squared_error: 0.3663 - val_loss: 0.4112 - val_mean_squared_error: 0.3899\n",
      "Train on 140000 samples, validate on 27515 samples\n",
      "Epoch 1/8\n",
      "140000/140000 [==============================] - 57s 406us/step - loss: 0.4178 - mean_squared_error: 0.3961 - val_loss: 0.4306 - val_mean_squared_error: 0.4073\n",
      "Epoch 2/8\n",
      "140000/140000 [==============================] - 55s 395us/step - loss: 0.4120 - mean_squared_error: 0.3906 - val_loss: 0.4281 - val_mean_squared_error: 0.4050\n",
      "Epoch 3/8\n",
      "140000/140000 [==============================] - 56s 400us/step - loss: 0.4110 - mean_squared_error: 0.3896 - val_loss: 0.4273 - val_mean_squared_error: 0.4043\n",
      "Epoch 4/8\n",
      "140000/140000 [==============================] - 55s 396us/step - loss: 0.4076 - mean_squared_error: 0.3864 - val_loss: 0.4271 - val_mean_squared_error: 0.4041\n",
      "Epoch 5/8\n",
      "140000/140000 [==============================] - 56s 402us/step - loss: 0.4057 - mean_squared_error: 0.3847 - val_loss: 0.4269 - val_mean_squared_error: 0.4039\n",
      "Epoch 6/8\n",
      "140000/140000 [==============================] - 56s 400us/step - loss: 0.4048 - mean_squared_error: 0.3838 - val_loss: 0.4268 - val_mean_squared_error: 0.4039\n",
      "Epoch 7/8\n",
      "140000/140000 [==============================] - 57s 405us/step - loss: 0.4031 - mean_squared_error: 0.3822 - val_loss: 0.4277 - val_mean_squared_error: 0.4046\n",
      "Epoch 8/8\n",
      "140000/140000 [==============================] - 55s 396us/step - loss: 0.4017 - mean_squared_error: 0.3809 - val_loss: 0.4248 - val_mean_squared_error: 0.4020\n",
      "Train on 140000 samples, validate on 27515 samples\n",
      "Epoch 1/8\n",
      "140000/140000 [==============================] - 55s 393us/step - loss: 0.4151 - mean_squared_error: 0.3935 - val_loss: 0.4357 - val_mean_squared_error: 0.4132\n",
      "Epoch 2/8\n",
      "140000/140000 [==============================] - 56s 398us/step - loss: 0.4107 - mean_squared_error: 0.3894 - val_loss: 0.4352 - val_mean_squared_error: 0.4128\n",
      "Epoch 3/8\n",
      "140000/140000 [==============================] - 56s 397us/step - loss: 0.4079 - mean_squared_error: 0.3868 - val_loss: 0.4361 - val_mean_squared_error: 0.4137\n",
      "Epoch 4/8\n",
      "140000/140000 [==============================] - 57s 404us/step - loss: 0.4067 - mean_squared_error: 0.3856 - val_loss: 0.4354 - val_mean_squared_error: 0.4130\n",
      "Epoch 5/8\n",
      "140000/140000 [==============================] - 56s 403us/step - loss: 0.4039 - mean_squared_error: 0.3829 - val_loss: 0.4343 - val_mean_squared_error: 0.4120\n",
      "Epoch 6/8\n",
      "140000/140000 [==============================] - 57s 404us/step - loss: 0.4030 - mean_squared_error: 0.3821 - val_loss: 0.4344 - val_mean_squared_error: 0.4121\n",
      "Epoch 7/8\n",
      "140000/140000 [==============================] - 57s 407us/step - loss: 0.4013 - mean_squared_error: 0.3805 - val_loss: 0.4369 - val_mean_squared_error: 0.4143\n",
      "Epoch 8/8\n",
      "140000/140000 [==============================] - 57s 405us/step - loss: 0.4012 - mean_squared_error: 0.3804 - val_loss: 0.4339 - val_mean_squared_error: 0.4115\n",
      "Train on 140000 samples, validate on 27515 samples\n",
      "Epoch 1/8\n",
      "140000/140000 [==============================] - 55s 391us/step - loss: 0.4381 - mean_squared_error: 0.4149 - val_loss: 0.4520 - val_mean_squared_error: 0.4281\n",
      "Epoch 2/8\n",
      "140000/140000 [==============================] - 55s 393us/step - loss: 0.4314 - mean_squared_error: 0.4087 - val_loss: 0.4511 - val_mean_squared_error: 0.4274\n",
      "Epoch 3/8\n",
      "140000/140000 [==============================] - 54s 386us/step - loss: 0.4286 - mean_squared_error: 0.4060 - val_loss: 0.4504 - val_mean_squared_error: 0.4267\n",
      "Epoch 4/8\n",
      "140000/140000 [==============================] - 56s 402us/step - loss: 0.4259 - mean_squared_error: 0.4034 - val_loss: 0.4498 - val_mean_squared_error: 0.4261\n",
      "Epoch 5/8\n"
     ]
    },
    {
     "name": "stdout",
     "output_type": "stream",
     "text": [
      "140000/140000 [==============================] - 55s 393us/step - loss: 0.4230 - mean_squared_error: 0.4008 - val_loss: 0.4500 - val_mean_squared_error: 0.4263\n",
      "Epoch 6/8\n",
      "140000/140000 [==============================] - 55s 394us/step - loss: 0.4219 - mean_squared_error: 0.3998 - val_loss: 0.4497 - val_mean_squared_error: 0.4260\n",
      "Epoch 7/8\n",
      "140000/140000 [==============================] - 54s 388us/step - loss: 0.4204 - mean_squared_error: 0.3983 - val_loss: 0.4479 - val_mean_squared_error: 0.4243\n",
      "Epoch 8/8\n",
      "140000/140000 [==============================] - 55s 396us/step - loss: 0.4197 - mean_squared_error: 0.3976 - val_loss: 0.4485 - val_mean_squared_error: 0.4249\n",
      "Train on 140000 samples, validate on 27515 samples\n",
      "Epoch 1/8\n",
      "140000/140000 [==============================] - 56s 400us/step - loss: 0.4149 - mean_squared_error: 0.3929 - val_loss: 0.4282 - val_mean_squared_error: 0.4052\n",
      "Epoch 2/8\n",
      "140000/140000 [==============================] - 56s 398us/step - loss: 0.4110 - mean_squared_error: 0.3892 - val_loss: 0.4293 - val_mean_squared_error: 0.4062\n",
      "Epoch 3/8\n",
      "140000/140000 [==============================] - 54s 383us/step - loss: 0.4096 - mean_squared_error: 0.3879 - val_loss: 0.4255 - val_mean_squared_error: 0.4027\n",
      "Epoch 4/8\n",
      "140000/140000 [==============================] - 56s 398us/step - loss: 0.4078 - mean_squared_error: 0.3862 - val_loss: 0.4259 - val_mean_squared_error: 0.4030\n",
      "Epoch 5/8\n",
      "140000/140000 [==============================] - 56s 399us/step - loss: 0.4071 - mean_squared_error: 0.3855 - val_loss: 0.4252 - val_mean_squared_error: 0.4024\n",
      "Epoch 6/8\n",
      "140000/140000 [==============================] - 55s 391us/step - loss: 0.4061 - mean_squared_error: 0.3846 - val_loss: 0.4276 - val_mean_squared_error: 0.4047\n",
      "Epoch 7/8\n",
      "140000/140000 [==============================] - 54s 385us/step - loss: 0.4059 - mean_squared_error: 0.3844 - val_loss: 0.4244 - val_mean_squared_error: 0.4016\n",
      "Epoch 8/8\n",
      "140000/140000 [==============================] - 56s 398us/step - loss: 0.4049 - mean_squared_error: 0.3834 - val_loss: 0.4257 - val_mean_squared_error: 0.4027\n",
      "Train on 140000 samples, validate on 27515 samples\n",
      "Epoch 1/8\n",
      "140000/140000 [==============================] - 55s 391us/step - loss: 0.4096 - mean_squared_error: 0.3878 - val_loss: 0.4165 - val_mean_squared_error: 0.3949\n",
      "Epoch 2/8\n",
      "140000/140000 [==============================] - 55s 391us/step - loss: 0.4070 - mean_squared_error: 0.3854 - val_loss: 0.4167 - val_mean_squared_error: 0.3950\n",
      "Epoch 3/8\n",
      "140000/140000 [==============================] - 54s 389us/step - loss: 0.4065 - mean_squared_error: 0.3848 - val_loss: 0.4147 - val_mean_squared_error: 0.3933\n",
      "Epoch 4/8\n",
      "140000/140000 [==============================] - 55s 391us/step - loss: 0.4038 - mean_squared_error: 0.3823 - val_loss: 0.4139 - val_mean_squared_error: 0.3924\n",
      "Epoch 5/8\n",
      "140000/140000 [==============================] - 55s 389us/step - loss: 0.4030 - mean_squared_error: 0.3816 - val_loss: 0.4159 - val_mean_squared_error: 0.3943\n",
      "Epoch 6/8\n",
      "140000/140000 [==============================] - 56s 398us/step - loss: 0.4030 - mean_squared_error: 0.3817 - val_loss: 0.4146 - val_mean_squared_error: 0.3930\n",
      "Epoch 7/8\n",
      "140000/140000 [==============================] - 55s 390us/step - loss: 0.4019 - mean_squared_error: 0.3806 - val_loss: 0.4138 - val_mean_squared_error: 0.3923\n",
      "Epoch 8/8\n",
      "140000/140000 [==============================] - 56s 398us/step - loss: 0.4008 - mean_squared_error: 0.3795 - val_loss: 0.4135 - val_mean_squared_error: 0.3920\n",
      "Train on 140000 samples, validate on 27515 samples\n",
      "Epoch 1/8\n",
      "140000/140000 [==============================] - 56s 401us/step - loss: 0.4066 - mean_squared_error: 0.3850 - val_loss: 0.4255 - val_mean_squared_error: 0.4017\n",
      "Epoch 2/8\n",
      "140000/140000 [==============================] - 55s 391us/step - loss: 0.4033 - mean_squared_error: 0.3820 - val_loss: 0.4239 - val_mean_squared_error: 0.4002\n",
      "Epoch 3/8\n",
      "140000/140000 [==============================] - 54s 383us/step - loss: 0.4007 - mean_squared_error: 0.3796 - val_loss: 0.4231 - val_mean_squared_error: 0.3995\n",
      "Epoch 4/8\n",
      "140000/140000 [==============================] - 59s 423us/step - loss: 0.3993 - mean_squared_error: 0.3782 - val_loss: 0.4221 - val_mean_squared_error: 0.3985\n",
      "Epoch 5/8\n",
      "140000/140000 [==============================] - 59s 424us/step - loss: 0.3975 - mean_squared_error: 0.3766 - val_loss: 0.4218 - val_mean_squared_error: 0.3981\n",
      "Epoch 6/8\n",
      "140000/140000 [==============================] - 72s 514us/step - loss: 0.3975 - mean_squared_error: 0.3765 - val_loss: 0.4215 - val_mean_squared_error: 0.3980\n",
      "Epoch 7/8\n",
      "140000/140000 [==============================] - 72s 511us/step - loss: 0.3974 - mean_squared_error: 0.3765 - val_loss: 0.4219 - val_mean_squared_error: 0.3983\n",
      "Epoch 8/8\n",
      "140000/140000 [==============================] - 65s 467us/step - loss: 0.3945 - mean_squared_error: 0.3737 - val_loss: 0.4218 - val_mean_squared_error: 0.3982\n",
      "Train on 140000 samples, validate on 27515 samples\n",
      "Epoch 1/8\n",
      "140000/140000 [==============================] - 82s 584us/step - loss: 0.4167 - mean_squared_error: 0.3949 - val_loss: 0.4251 - val_mean_squared_error: 0.4026\n",
      "Epoch 2/8\n",
      "140000/140000 [==============================] - 75s 533us/step - loss: 0.4149 - mean_squared_error: 0.3932 - val_loss: 0.4231 - val_mean_squared_error: 0.4007\n",
      "Epoch 3/8\n",
      "140000/140000 [==============================] - 88s 626us/step - loss: 0.4132 - mean_squared_error: 0.3914 - val_loss: 0.4218 - val_mean_squared_error: 0.3995\n",
      "Epoch 4/8\n",
      "140000/140000 [==============================] - 82s 583us/step - loss: 0.4098 - mean_squared_error: 0.3884 - val_loss: 0.4205 - val_mean_squared_error: 0.3983\n",
      "Epoch 5/8\n",
      "140000/140000 [==============================] - 80s 573us/step - loss: 0.4095 - mean_squared_error: 0.3880 - val_loss: 0.4206 - val_mean_squared_error: 0.3983\n",
      "Epoch 6/8\n",
      "140000/140000 [==============================] - 75s 538us/step - loss: 0.4091 - mean_squared_error: 0.3877 - val_loss: 0.4212 - val_mean_squared_error: 0.3989\n",
      "Epoch 7/8\n",
      "140000/140000 [==============================] - 70s 503us/step - loss: 0.4065 - mean_squared_error: 0.3852 - val_loss: 0.4219 - val_mean_squared_error: 0.3996\n",
      "Epoch 8/8\n",
      "140000/140000 [==============================] - 70s 500us/step - loss: 0.4070 - mean_squared_error: 0.3857 - val_loss: 0.4188 - val_mean_squared_error: 0.3967\n"
     ]
    }
   ],
   "source": [
    "for i in range(16):\n",
    "    \n",
    "    promo_today = promo_2017[date(2017,7,26) + timedelta(days=i)].values\n",
    "    random.seed(100)\n",
    "    random.shuffle(promo_today)\n",
    "    \n",
    "    x_train[:,21,5] = promo_today[:140000]\n",
    "    x_val[:,21,5] = promo_today[140000:]\n",
    "    \n",
    "    model.fit(x_train, y_train[:,i], sample_weight=sample_weights_train,batch_size=54,\n",
    "              epochs=8, verbose=1, shuffle=False, \n",
    "              validation_data=(x_val,y_val[:,i],sample_weights[140000:]))\n",
    "    \n",
    "    val_pred.append(model.predict(x_val))\n",
    "    \n",
    "    promo_today = promo_2017[date(2017,8,16) + timedelta(days=i)].values\n",
    "    X_test[:,21,5] = promo_today\n",
    "    \n",
    "    test_pred.append(model.predict(X_test))   "
   ]
  },
  {
   "cell_type": "code",
   "execution_count": 248,
   "metadata": {
    "collapsed": true
   },
   "outputs": [],
   "source": [
    "from sklearn.metrics import mean_squared_error"
   ]
  },
  {
   "cell_type": "code",
   "execution_count": 249,
   "metadata": {
    "collapsed": true
   },
   "outputs": [],
   "source": [
    "val_pred_new = np.array(val_pred).transpose()[0]"
   ]
  },
  {
   "cell_type": "code",
   "execution_count": 250,
   "metadata": {},
   "outputs": [
    {
     "name": "stdout",
     "output_type": "stream",
     "text": [
      "Validation mse: 0.622845742629\n"
     ]
    }
   ],
   "source": [
    "print(\"Validation mse:\", mean_squared_error(\n",
    "    y_val, np.array(val_pred_new))**0.5)"
   ]
  },
  {
   "cell_type": "code",
   "execution_count": 251,
   "metadata": {
    "collapsed": true
   },
   "outputs": [],
   "source": [
    "pred_result = np.array(test_pred).transpose()[0]"
   ]
  },
  {
   "cell_type": "code",
   "execution_count": 252,
   "metadata": {},
   "outputs": [
    {
     "data": {
      "text/plain": [
       "(167515, 16)"
      ]
     },
     "execution_count": 252,
     "metadata": {},
     "output_type": "execute_result"
    }
   ],
   "source": [
    "pred_result.shape"
   ]
  },
  {
   "cell_type": "code",
   "execution_count": 253,
   "metadata": {
    "collapsed": true
   },
   "outputs": [],
   "source": [
    "df_preds = pd.DataFrame(pred_result, index=train_2017.index, columns=pd.date_range(\"2017-08-16\", periods=16)\n",
    "                       ).stack().to_frame(\"unit_sales\")\n",
    "df_preds.index.set_names([\"store_nbr\", \"item_nbr\", \"date\"], inplace=True)"
   ]
  },
  {
   "cell_type": "code",
   "execution_count": 254,
   "metadata": {},
   "outputs": [
    {
     "data": {
      "text/plain": [
       "(3370464, 2)"
      ]
     },
     "execution_count": 254,
     "metadata": {},
     "output_type": "execute_result"
    }
   ],
   "source": [
    "submission = df_test[[\"id\"]].join(df_preds, how=\"left\").fillna(0)\n",
    "submission[\"unit_sales\"] = np.clip(np.expm1(submission[\"unit_sales\"]), 0, 10000)\n",
    "submission.shape"
   ]
  },
  {
   "cell_type": "code",
   "execution_count": 255,
   "metadata": {
    "collapsed": true
   },
   "outputs": [],
   "source": [
    "submission.to_csv('try_final_2.csv', float_format='%.4f', index=None)"
   ]
  },
  {
   "cell_type": "code",
   "execution_count": null,
   "metadata": {
    "collapsed": true
   },
   "outputs": [],
   "source": []
  }
 ],
 "metadata": {
  "kernelspec": {
   "display_name": "Python 3",
   "language": "python",
   "name": "python3"
  },
  "language_info": {
   "codemirror_mode": {
    "name": "ipython",
    "version": 3
   },
   "file_extension": ".py",
   "mimetype": "text/x-python",
   "name": "python",
   "nbconvert_exporter": "python",
   "pygments_lexer": "ipython3",
   "version": "3.6.3"
  }
 },
 "nbformat": 4,
 "nbformat_minor": 2
}
